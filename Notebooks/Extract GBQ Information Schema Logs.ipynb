{
 "cells": [
  {
   "cell_type": "code",
   "execution_count": null,
   "id": "f02a5fbf",
   "metadata": {},
   "outputs": [],
   "source": [
    "import pandas as pd\n",
    "from google.cloud import bigquery\n",
    "from google.oauth2 import service_account\n",
    "from pandas_gbq import to_gbq\n",
    "import os\n",
    "from dotenv import load_dotenv\n",
    "\n",
    "load_dotenv(override=True)"
   ]
  },
  {
   "cell_type": "code",
   "execution_count": null,
   "id": "712c7746",
   "metadata": {},
   "outputs": [],
   "source": [
    "#set up variables\n",
    "information_schema_csv = os.getenv(\"GBQ_INFORMATION_SCHEMA_EXTRACT_CSV\")\n",
    "\n",
    "# === Your BigQuery setup ===\n",
    "project_id    = os.getenv(\"GBQ_PROJECT_ID\")\n",
    "dataset_id    = os.getenv(\"GBQ_DATASET_ID\")\n",
    "table_name = os.getenv(\"GBQ_TABLE_ID_INFORMATION_SCHEMA\")\n",
    "full_table_id = f\"{dataset_id}.{table_name}\"\n",
    "\n"
   ]
  },
  {
   "cell_type": "code",
   "execution_count": null,
   "id": "e89a5aa0",
   "metadata": {},
   "outputs": [],
   "source": [
    "df = pd.read_csv(information_schema_csv)"
   ]
  },
  {
   "cell_type": "code",
   "execution_count": null,
   "id": "b389687e",
   "metadata": {},
   "outputs": [],
   "source": [
    "df.head()"
   ]
  },
  {
   "cell_type": "code",
   "execution_count": null,
   "id": "e7fd76f6",
   "metadata": {},
   "outputs": [],
   "source": [
    "\n",
    "# Define the scope (can be more specific if needed)\n",
    "SCOPES = ['https://www.googleapis.com/auth/cloud-platform']\n",
    "\n",
    "\n",
    "# Authenticate using the service account file\n",
    "credentials = service_account.Credentials.from_service_account_file(\n",
    "    os.getenv(\"GBQ_SERVICE_ACCOUNT_FILE\"),\n",
    "    scopes=SCOPES\n",
    ")\n",
    "\n",
    "# Example: Initialize a client (e.g., Google Cloud Storage)\n",
    "client = bigquery.Client(credentials=credentials)\n",
    "\n"
   ]
  },
  {
   "cell_type": "code",
   "execution_count": null,
   "id": "8c70456f",
   "metadata": {},
   "outputs": [],
   "source": [
    "# === Append the DataFrame ===\n",
    "to_gbq(\n",
    "    df,\n",
    "    destination_table=full_table_id,\n",
    "    project_id=project_id,\n",
    "    credentials=credentials,\n",
    "    location=os.getenv(\"GBQ_LOCATION\"),\n",
    "    if_exists=\"replace\"\n",
    ")"
   ]
  }
 ],
 "metadata": {
  "kernelspec": {
   "display_name": "Python 3",
   "language": "python",
   "name": "python3"
  },
  "language_info": {
   "codemirror_mode": {
    "name": "ipython",
    "version": 3
   },
   "file_extension": ".py",
   "mimetype": "text/x-python",
   "name": "python",
   "nbconvert_exporter": "python",
   "pygments_lexer": "ipython3",
   "version": "3.11.10"
  }
 },
 "nbformat": 4,
 "nbformat_minor": 5
}
